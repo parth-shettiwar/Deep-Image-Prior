{
  "nbformat": 4,
  "nbformat_minor": 0,
  "metadata": {
    "colab": {
      "name": "DeepImagePrior_Inpainting.ipynb",
      "provenance": [],
      "collapsed_sections": [],
      "machine_shape": "hm"
    },
    "kernelspec": {
      "name": "python3",
      "display_name": "Python 3"
    },
    "accelerator": "GPU"
  },
  "cells": [
    {
      "cell_type": "code",
      "metadata": {
        "id": "m09cZrNOXhck",
        "colab_type": "code",
        "colab": {}
      },
      "source": [
        "import torch\n",
        "import torch.nn as nn\n",
        "import torch.optim as optim\n",
        "import torchvision as tv\n",
        "import numpy as np\n",
        "from PIL import Image\n",
        "from matplotlib import pyplot as plt\n",
        "import imageio"
      ],
      "execution_count": 0,
      "outputs": []
    },
    {
      "cell_type": "code",
      "metadata": {
        "id": "M2lfLUE6YHt8",
        "colab_type": "code",
        "colab": {}
      },
      "source": [
        "class Hourglass(nn.Module):\n",
        "    def __init__(self):\n",
        "        super(Hourglass, self).__init__()\n",
        "\n",
        "        self.leaky_relu = nn.LeakyReLU()\n",
        "\n",
        "        self.d_conv_1 = nn.Conv2d(2, 8, 5, stride=2, padding=2)\n",
        "        self.d_bn_1 = nn.BatchNorm2d(8)\n",
        "\n",
        "        self.d_conv_2 = nn.Conv2d(8, 16, 5, stride=2, padding=2)\n",
        "        self.d_bn_2 = nn.BatchNorm2d(16)\n",
        "\n",
        "        self.d_conv_3 = nn.Conv2d(16, 32, 5, stride=2, padding=2)\n",
        "        self.d_bn_3 = nn.BatchNorm2d(32)\n",
        "        self.s_conv_3 = nn.Conv2d(32, 4, 5, stride=1, padding=2)\n",
        "\n",
        "        self.d_conv_4 = nn.Conv2d(32, 64, 5, stride=2, padding=2)\n",
        "        self.d_bn_4 = nn.BatchNorm2d(64)\n",
        "        self.s_conv_4 = nn.Conv2d(64, 4, 5, stride=1, padding=2)\n",
        "\n",
        "        self.d_conv_5 = nn.Conv2d(64, 128, 5, stride=2, padding=2)\n",
        "        self.d_bn_5 = nn.BatchNorm2d(128)\n",
        "        self.s_conv_5 = nn.Conv2d(128, 4, 5, stride=1, padding=2)\n",
        "\n",
        "        self.d_conv_6 = nn.Conv2d(128, 256, 5, stride=2, padding=2)\n",
        "        self.d_bn_6 = nn.BatchNorm2d(256)\n",
        "\n",
        "        self.u_deconv_5 = nn.ConvTranspose2d(256, 124, 4, stride=2, padding=1)\n",
        "        self.u_bn_5 = nn.BatchNorm2d(128)\n",
        "\n",
        "        self.u_deconv_4 = nn.ConvTranspose2d(128, 60, 4, stride=2, padding=1)\n",
        "        self.u_bn_4 = nn.BatchNorm2d(64)\n",
        "\n",
        "        self.u_deconv_3 = nn.ConvTranspose2d(64, 28, 4, stride=2, padding=1)\n",
        "        self.u_bn_3 = nn.BatchNorm2d(32)\n",
        "\n",
        "        self.u_deconv_2 = nn.ConvTranspose2d(32, 16, 4, stride=2, padding=1)\n",
        "        self.u_bn_2 = nn.BatchNorm2d(16)\n",
        "\n",
        "        self.u_deconv_1 = nn.ConvTranspose2d(16, 8, 4, stride=2, padding=1)\n",
        "        self.u_bn_1 = nn.BatchNorm2d(8)\n",
        "\n",
        "        self.out_deconv = nn.ConvTranspose2d(8, 3, 4, stride=2, padding=1)\n",
        "        self.out_bn = nn.BatchNorm2d(3)\n",
        "\n",
        "    def forward(self, noise):\n",
        "        down_1 = self.d_conv_1(noise)\n",
        "        down_1 = self.d_bn_1(down_1)\n",
        "        down_1 = self.leaky_relu(down_1)\n",
        "\n",
        "        down_2 = self.d_conv_2(down_1)\n",
        "        down_2 = self.d_bn_2(down_2)\n",
        "        down_2 = self.leaky_relu(down_2)\n",
        "\n",
        "        down_3 = self.d_conv_3(down_2)\n",
        "        down_3 = self.d_bn_3(down_3)\n",
        "        down_3 = self.leaky_relu(down_3)\n",
        "        skip_3 = self.s_conv_3(down_3)\n",
        "\n",
        "        down_4 = self.d_conv_4(down_3)\n",
        "        down_4 = self.d_bn_4(down_4)\n",
        "        down_4 = self.leaky_relu(down_4)\n",
        "        skip_4 = self.s_conv_4(down_4)\n",
        "\n",
        "        down_5 = self.d_conv_5(down_4)\n",
        "        down_5 = self.d_bn_5(down_5)\n",
        "        down_5 = self.leaky_relu(down_5)\n",
        "        skip_5 = self.s_conv_5(down_5)\n",
        "\n",
        "        down_6 = self.d_conv_6(down_5)\n",
        "        down_6 = self.d_bn_6(down_6)\n",
        "        down_6 = self.leaky_relu(down_6)\n",
        "\n",
        "        up_5 = self.u_deconv_5(down_6)\n",
        "        up_5 = torch.cat([up_5, skip_5], 1)\n",
        "        up_5 = self.u_bn_5(up_5)\n",
        "        up_5 = self.leaky_relu(up_5)\n",
        "\n",
        "        up_4 = self.u_deconv_4(up_5)\n",
        "        up_4 = torch.cat([up_4, skip_4], 1)\n",
        "        up_4 = self.u_bn_4(up_4)\n",
        "        up_4 = self.leaky_relu(up_4)\n",
        "\n",
        "        up_3 = self.u_deconv_3(up_4)\n",
        "        up_3 = torch.cat([up_3, skip_3], 1)\n",
        "        up_3 = self.u_bn_3(up_3)\n",
        "        up_3 = self.leaky_relu(up_3)\n",
        "\n",
        "        up_2 = self.u_deconv_2(up_3)\n",
        "        up_2 = self.u_bn_2(up_2)\n",
        "        up_2 = self.leaky_relu(up_2)\n",
        "\n",
        "        up_1 = self.u_deconv_1(up_2)\n",
        "        up_1 = self.u_bn_1(up_1)\n",
        "        up_1 = self.leaky_relu(up_1)\n",
        "\n",
        "        out = self.out_deconv(up_1)\n",
        "        out = self.out_bn(out)\n",
        "        out = nn.Sigmoid()(out)\n",
        "\n",
        "        return out"
      ],
      "execution_count": 0,
      "outputs": []
    },
    {
      "cell_type": "code",
      "metadata": {
        "id": "02lyJH4hIWhV",
        "colab_type": "code",
        "colab": {}
      },
      "source": [
        "def pixel_thanos(img, p=0.5):\n",
        "    assert p > 0 and p < 1, 'The probability value should lie in (0, 1)'\n",
        "    mask = torch.rand(512, 512)\n",
        "    img[:, :, mask<p] = 0\n",
        "    mask = mask > p\n",
        "    mask = mask.repeat(1,3,1,1)\n",
        "    return img, mask"
      ],
      "execution_count": 0,
      "outputs": []
    },
    {
      "cell_type": "code",
      "metadata": {
        "id": "RLgL9hpvBS8E",
        "colab_type": "code",
        "colab": {}
      },
      "source": [
        "lr = 1e-2\n",
        "device = 'cuda'\n",
        "\n",
        "hg_net = Hourglass()\n",
        "hg_net.to(device)\n",
        "mse = nn.MSELoss()\n",
        "optimizer = optim.Adam(hg_net.parameters(), lr=lr)"
      ],
      "execution_count": 0,
      "outputs": []
    },
    {
      "cell_type": "code",
      "metadata": {
        "id": "dDqNjTogGY-A",
        "colab_type": "code",
        "colab": {}
      },
      "source": [
        "n_iter = 4000\n",
        "images = []\n",
        "losses = []\n",
        "to_tensor = tv.transforms.ToTensor()\n",
        "z = torch.Tensor(np.mgrid[:512, :512]).unsqueeze(0).to(device) / 512\n",
        "\n",
        "x = Image.open('lena.png')\n",
        "x = to_tensor(x).unsqueeze(0)\n",
        "x, mask = pixel_thanos(x, 0.8)\n",
        "mask = mask.to(device)\n",
        "x = x.to(device)"
      ],
      "execution_count": 0,
      "outputs": []
    },
    {
      "cell_type": "code",
      "metadata": {
        "id": "uJ_LrFg_GL5r",
        "colab_type": "code",
        "colab": {}
      },
      "source": [
        "for i in range(n_iter):\n",
        "    optimizer.zero_grad()\n",
        "    y = hg_net(z)\n",
        "    loss = mse(x, y*mask)\n",
        "    losses.append(loss.item())\n",
        "    loss.backward()\n",
        "    optimizer.step()\n",
        "    if (i+1)%25 == 0 or i==0:\n",
        "        with torch.no_grad():\n",
        "            out = x + y * ~mask\n",
        "            out = out[0].cpu().detach().permute(1,2,0)*255\n",
        "            out = np.array(out, np.uint8)\n",
        "            images.append(out)\n",
        "    if (i+1)%50 == 0:\n",
        "        print('Iteration: {} Loss: {:.07f}'.format(i+1, losses[-1]))"
      ],
      "execution_count": 0,
      "outputs": []
    },
    {
      "cell_type": "code",
      "metadata": {
        "id": "X24aribMGLyV",
        "colab_type": "code",
        "colab": {}
      },
      "source": [
        "plt.imsave('final.jpg', out)\n",
        "plt.imsave('start.jpg', x[0].cpu().detach().permute(1,2,0).numpy())\n",
        "plt.plot(losses)\n",
        "imageio.mimsave('progress.gif', images)"
      ],
      "execution_count": 0,
      "outputs": []
    }
  ]
}